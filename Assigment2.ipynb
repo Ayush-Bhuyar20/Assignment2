{
 "cells": [
  {
   "cell_type": "markdown",
   "id": "15d3cae8-692f-46b1-8006-586be9348d80",
   "metadata": {},
   "source": [
    "Q1. How do you comment code in Python? What are the different types of comments?"
   ]
  },
  {
   "cell_type": "markdown",
   "id": "5255345f-5436-4230-bb0c-b84f0178fdcc",
   "metadata": {},
   "source": [
    "ANS: We can add comment in python by two methods- 1)Single line comment 2)multi-line comments\n",
    "single line is added with # and mulyi-line is added with triple single or double quotes(\"\"\")or(''') on both side of code."
   ]
  },
  {
   "cell_type": "code",
   "execution_count": 1,
   "id": "ce0c248e-0bbf-4084-ad7e-2fdb4ea53768",
   "metadata": {},
   "outputs": [
    {
     "name": "stdout",
     "output_type": "stream",
     "text": [
      "Hello Coders\n"
     ]
    }
   ],
   "source": [
    "#Example\n",
    "\n",
    "#this is single line comment\n",
    "print(\"Hello Coders\") #now phython will only print whats is given in print function ,anything after the hash symbol is igonered"
   ]
  },
  {
   "cell_type": "code",
   "execution_count": 8,
   "id": "c2be8b1b-36d2-450a-a651-1c8bc742e590",
   "metadata": {},
   "outputs": [
    {
     "name": "stdout",
     "output_type": "stream",
     "text": [
      "Hello, world!\n"
     ]
    }
   ],
   "source": [
    "'''\n",
    "This is a multi-line comment in Python.\n",
    "It can span multiple lines and is enclosed\n",
    "within triple quotes.\n",
    "'''\n",
    "print(\"Hello, world!\")"
   ]
  },
  {
   "cell_type": "code",
   "execution_count": 10,
   "id": "4edbc603-ad18-43bf-b074-8a706a877310",
   "metadata": {},
   "outputs": [],
   "source": []
  },
  {
   "cell_type": "markdown",
   "id": "a865f0b9-917f-4977-9733-0ddaa2631566",
   "metadata": {},
   "source": [
    "Q2. What are variables in Python? How do you declare and assign values to variables?"
   ]
  },
  {
   "cell_type": "markdown",
   "id": "1d0090d7-a1fe-46ac-854f-5722918d0c2d",
   "metadata": {},
   "source": [
    "ANS:- Variables are used to store the differnt kind of data values and execute in program. , in phythons we need not to declare the data type like any other programming languages"
   ]
  },
  {
   "cell_type": "code",
   "execution_count": 20,
   "id": "29be8b6b-d08a-4182-8ec9-47c1f99a3861",
   "metadata": {},
   "outputs": [],
   "source": [
    "#declaration of variables\n",
    "\n",
    "my_Variable = \"python\"\n",
    "\n",
    "x = 10 #we declared a variable as x and assigned it value as 10\n",
    "H = \"Hello Coders!\" #assigning the string\n",
    "pi = 3.14 #assigning float\n",
    "two_table = [2,4,6,8,10] #assigning list"
   ]
  },
  {
   "cell_type": "code",
   "execution_count": null,
   "id": "c7fb8866-1779-407d-8d83-4da3aff6d256",
   "metadata": {},
   "outputs": [],
   "source": []
  },
  {
   "cell_type": "markdown",
   "id": "e52d994f-a69f-4229-a537-ff2e6cd0d1cc",
   "metadata": {},
   "source": [
    "Q3. How do you convert one data type to another in Python?"
   ]
  },
  {
   "cell_type": "markdown",
   "id": "6d677300-0a80-42de-a7ec-6b017f2146dd",
   "metadata": {},
   "source": [
    "ANS:- In python we can convert data by converstion function , there are two types of conversion\n",
    "Implicit Conversion: Python automatically performs certain type conversions, known as implicit conversions, when it's safe to do so. For example, when performing operations between compatible data types, Python will automatically convert them. For instance, adding an integer and a floating-point number will result in a float.\n",
    "\n",
    "Explicit Conversion: If you need to convert a value explicitly from one data type to another, you can use the following built-in functions:\n",
    "\n"
   ]
  },
  {
   "cell_type": "code",
   "execution_count": 11,
   "id": "4572c22d-0999-4817-b958-e1666c0e9abf",
   "metadata": {},
   "outputs": [
    {
     "name": "stdout",
     "output_type": "stream",
     "text": [
      "13.4\n"
     ]
    }
   ],
   "source": [
    "#Examples\n",
    "\n",
    "#implicit conversion\n",
    "x = 10\n",
    "y = 3.4\n",
    "print(x+y) # here x is interger data type and y is floating point data type , so phython automatically retruns the float point as result"
   ]
  },
  {
   "cell_type": "code",
   "execution_count": 14,
   "id": "5326bdfc-7407-4331-b43f-743fa8c343cc",
   "metadata": {},
   "outputs": [],
   "source": [
    "#explicit conversion\n",
    "a = int(3.14)\n",
    "b = str(143)\n",
    "c = float(\"1437\")\n",
    "d = list(\"pwskills\")\n",
    "e = dict([('name', 'ayush')])"
   ]
  },
  {
   "cell_type": "code",
   "execution_count": 15,
   "id": "f1635014-b98b-4eef-acd1-57712705528e",
   "metadata": {},
   "outputs": [
    {
     "data": {
      "text/plain": [
       "3"
      ]
     },
     "execution_count": 15,
     "metadata": {},
     "output_type": "execute_result"
    }
   ],
   "source": [
    "a #float to integer"
   ]
  },
  {
   "cell_type": "code",
   "execution_count": 16,
   "id": "af134180-911d-48ee-9b5d-3fe7aaff5c74",
   "metadata": {},
   "outputs": [
    {
     "data": {
      "text/plain": [
       "'143'"
      ]
     },
     "execution_count": 16,
     "metadata": {},
     "output_type": "execute_result"
    }
   ],
   "source": [
    "b #interger to string"
   ]
  },
  {
   "cell_type": "code",
   "execution_count": 17,
   "id": "a0a4a7b1-61ec-42f6-8a87-49e6a3ad3f5d",
   "metadata": {},
   "outputs": [
    {
     "data": {
      "text/plain": [
       "1437.0"
      ]
     },
     "execution_count": 17,
     "metadata": {},
     "output_type": "execute_result"
    }
   ],
   "source": [
    "c #string to float"
   ]
  },
  {
   "cell_type": "code",
   "execution_count": 18,
   "id": "484aa30d-386c-43fb-b406-943ed7f1c6e4",
   "metadata": {},
   "outputs": [
    {
     "data": {
      "text/plain": [
       "['p', 'w', 's', 'k', 'i', 'l', 'l', 's']"
      ]
     },
     "execution_count": 18,
     "metadata": {},
     "output_type": "execute_result"
    }
   ],
   "source": [
    "d #string to list"
   ]
  },
  {
   "cell_type": "code",
   "execution_count": 19,
   "id": "dc0f0bf1-48d3-4dcd-89b9-9f878ec9228d",
   "metadata": {},
   "outputs": [
    {
     "data": {
      "text/plain": [
       "{'name': 'ayush'}"
      ]
     },
     "execution_count": 19,
     "metadata": {},
     "output_type": "execute_result"
    }
   ],
   "source": [
    "e #list to dict"
   ]
  },
  {
   "cell_type": "code",
   "execution_count": null,
   "id": "3974f8fa-bba0-4c0d-bffa-3ceda7c27b70",
   "metadata": {},
   "outputs": [],
   "source": []
  },
  {
   "cell_type": "markdown",
   "id": "f3fdf8a9-98f1-45d7-ad0c-400e15ad07d7",
   "metadata": {},
   "source": [
    "Q4. How do you write and execute a Python script from the command line?"
   ]
  },
  {
   "cell_type": "markdown",
   "id": "76768568-612c-47e0-aac3-eb5c9925ddae",
   "metadata": {},
   "source": [
    "ANS :-1)Open a command line interface. This can be the Windows Command Prompt.\n",
    "\n",
    "2)Navigate to the directory where you want to create the Python script using the cd command.\n",
    "\n",
    "3)Create a new file with a .py extension. You can use any text editor to create the file. \n",
    "\n",
    "4)Open the Python script file in a text editor and write your Python code in it. For example, you can use a command like nano script.py on macOS/Linux or open the file in Notepad on Windows.\n",
    "Inside the script, you can write your Python code.\n",
    "\n",
    "5)Save the file after writing your Python code.\n",
    "\n",
    "6)Return to the command line interface.\n",
    "\n",
    "7)To execute the Python script, use the python command followed by the name of the script file. For example, if your script file is named \"script.py\", you can use:\n",
    "The Python interpreter will execute the script, and if there are any print statements or output generated by the script, it will be displayed in the command line interface.\n"
   ]
  },
  {
   "cell_type": "code",
   "execution_count": null,
   "id": "32908c18-0e2d-4fa8-a246-68020d0540df",
   "metadata": {},
   "outputs": [],
   "source": []
  },
  {
   "cell_type": "markdown",
   "id": "9c83b968-87fa-4e28-bf57-4509defdb663",
   "metadata": {},
   "source": [
    "Q5. Given a list my_list = [1, 2, 3, 4, 5], write the code to slice the list and obtain the sub-list [2, 3]."
   ]
  },
  {
   "cell_type": "code",
   "execution_count": 1,
   "id": "6fddc8c8-e2f5-437c-9724-c5faf6af27f7",
   "metadata": {},
   "outputs": [],
   "source": [
    "#ANS\n",
    "my_list = [1,2,3,4,5]"
   ]
  },
  {
   "cell_type": "code",
   "execution_count": 3,
   "id": "1f68557e-b70f-4140-bfb4-adb025ed06f1",
   "metadata": {},
   "outputs": [
    {
     "data": {
      "text/plain": [
       "[2, 3]"
      ]
     },
     "execution_count": 3,
     "metadata": {},
     "output_type": "execute_result"
    }
   ],
   "source": [
    "my_list[1:3]"
   ]
  },
  {
   "cell_type": "code",
   "execution_count": null,
   "id": "b5b82019-bfda-40db-bea7-375c01a4f3bb",
   "metadata": {},
   "outputs": [],
   "source": []
  },
  {
   "cell_type": "markdown",
   "id": "2de29900-e13c-4856-a430-a3523a023a4a",
   "metadata": {},
   "source": [
    "Q6. What is a complex number in mathematics, and how is it represented in Python?"
   ]
  },
  {
   "cell_type": "markdown",
   "id": "40c5913c-210d-46b8-aa10-ea4b42d43b8c",
   "metadata": {},
   "source": [
    "ANS:- Complex number are set of combination of real number and imaginary number, it is in the form of a+ib "
   ]
  },
  {
   "cell_type": "code",
   "execution_count": 7,
   "id": "05c8626f-ad79-446a-a3bb-e7da18b31887",
   "metadata": {},
   "outputs": [],
   "source": [
    "#Represent of coplex number in python\n",
    "\n",
    "#In python the imaginary are form with the letter j\n",
    "\n",
    "#example\n",
    "c = 6+9j"
   ]
  },
  {
   "cell_type": "code",
   "execution_count": 9,
   "id": "83df2898-ed03-487c-bf0f-b48441d6049a",
   "metadata": {},
   "outputs": [
    {
     "data": {
      "text/plain": [
       "complex"
      ]
     },
     "execution_count": 9,
     "metadata": {},
     "output_type": "execute_result"
    }
   ],
   "source": [
    "type(c)"
   ]
  },
  {
   "cell_type": "code",
   "execution_count": null,
   "id": "0bb4b607-a33b-4e8b-84d5-6262d58d3ea0",
   "metadata": {},
   "outputs": [],
   "source": []
  },
  {
   "cell_type": "markdown",
   "id": "a09069c2-fb5d-41f1-a713-07648ae87ed1",
   "metadata": {},
   "source": [
    "Q7. What is the correct way to declare a variable named age and assign the value 25 to it?"
   ]
  },
  {
   "cell_type": "code",
   "execution_count": 11,
   "id": "ef5aa89d-3d2c-4705-abbe-3ed7f8ea565c",
   "metadata": {},
   "outputs": [],
   "source": [
    "#declare a variable named as age \n",
    "\n",
    "age = 25 #assigning the value 25"
   ]
  },
  {
   "cell_type": "code",
   "execution_count": 12,
   "id": "c122d601-ad8d-4944-8235-0d0bfade8e97",
   "metadata": {},
   "outputs": [
    {
     "data": {
      "text/plain": [
       "25"
      ]
     },
     "execution_count": 12,
     "metadata": {},
     "output_type": "execute_result"
    }
   ],
   "source": [
    "age #now whenever your calling the variable age the assigned value is retruns"
   ]
  },
  {
   "cell_type": "code",
   "execution_count": null,
   "id": "4e49e907-a9ec-4fe4-a51b-1fb4ee037b2b",
   "metadata": {},
   "outputs": [],
   "source": []
  },
  {
   "cell_type": "markdown",
   "id": "4a717153-b38e-43b3-9c47-046fa213c80b",
   "metadata": {},
   "source": [
    "Q8. Declare a variable named price and assign the value 9.99 to it. What data type does this variable\n",
    "belong to?"
   ]
  },
  {
   "cell_type": "code",
   "execution_count": 13,
   "id": "4436c269-b8cf-4b69-8a8a-ea2b426bdfe7",
   "metadata": {},
   "outputs": [],
   "source": [
    "#Decalre a varibale named price \n",
    "\n",
    "price = 9.99 #assigning the value 9.99"
   ]
  },
  {
   "cell_type": "code",
   "execution_count": 14,
   "id": "34a1e8a3-64f1-4eb1-b25c-7c73f462fc22",
   "metadata": {},
   "outputs": [
    {
     "data": {
      "text/plain": [
       "float"
      ]
     },
     "execution_count": 14,
     "metadata": {},
     "output_type": "execute_result"
    }
   ],
   "source": [
    "type(price) #the data type is float"
   ]
  },
  {
   "cell_type": "code",
   "execution_count": null,
   "id": "890bff0c-1b92-4e97-9a39-b617e090186a",
   "metadata": {},
   "outputs": [],
   "source": []
  },
  {
   "cell_type": "markdown",
   "id": "4185a286-cba5-44ed-a563-7b0a06ac46e2",
   "metadata": {},
   "source": [
    "Q9. Create a variable named name and assign your full name to it as a string. How would you print the\n",
    "value of this variable?"
   ]
  },
  {
   "cell_type": "code",
   "execution_count": 15,
   "id": "6ebdbc72-dbf4-4155-a6d2-b17312069542",
   "metadata": {},
   "outputs": [
    {
     "name": "stdout",
     "output_type": "stream",
     "text": [
      "Ayush Bhuyar\n"
     ]
    }
   ],
   "source": [
    "#Creating a variable named name\n",
    "\n",
    "name = \"Ayush Bhuyar\"\n",
    "print(name) #printing the value of variable"
   ]
  },
  {
   "cell_type": "code",
   "execution_count": null,
   "id": "50e1a74d-3d3a-45ab-a05d-1fbd48781a19",
   "metadata": {},
   "outputs": [],
   "source": []
  },
  {
   "cell_type": "markdown",
   "id": "e08ea3dd-746a-4931-8203-b93d002e47ec",
   "metadata": {},
   "source": [
    "Q10. Given the string \"Hello, World!\", extract the substring \"World\"."
   ]
  },
  {
   "cell_type": "code",
   "execution_count": 17,
   "id": "0a71182f-2e6d-4b0f-a2e6-ea6a07461fb7",
   "metadata": {},
   "outputs": [
    {
     "name": "stdout",
     "output_type": "stream",
     "text": [
      "World\n"
     ]
    }
   ],
   "source": [
    "string = \"Hello, World!\"\n",
    "substring = string[7:-1]\n",
    "\n",
    "print(substring)"
   ]
  },
  {
   "cell_type": "code",
   "execution_count": null,
   "id": "03416348-4687-49d5-9ac8-22046d92ba8d",
   "metadata": {},
   "outputs": [],
   "source": []
  },
  {
   "cell_type": "markdown",
   "id": "e4c96c3a-ff82-4549-bacb-7cda71475ee2",
   "metadata": {},
   "source": [
    "Q11. Create a variable named \"is_student\" and assign it a boolean value indicating whether you are\n",
    "currently a student or not."
   ]
  },
  {
   "cell_type": "code",
   "execution_count": 22,
   "id": "1bdd05a9-4799-4ebd-90f8-785ac9e3226c",
   "metadata": {},
   "outputs": [
    {
     "name": "stdout",
     "output_type": "stream",
     "text": [
      "i am a student\n"
     ]
    }
   ],
   "source": [
    "is_student = True\n",
    "if is_student == 1:\n",
    "    print(\"i am a student\") #if your currently student \n",
    "else :\n",
    "    print(\"i am not a student\")"
   ]
  },
  {
   "cell_type": "code",
   "execution_count": null,
   "id": "d55d96cd-732e-4999-9f62-4ba60bfe9e04",
   "metadata": {},
   "outputs": [],
   "source": []
  }
 ],
 "metadata": {
  "kernelspec": {
   "display_name": "Python 3 (ipykernel)",
   "language": "python",
   "name": "python3"
  },
  "language_info": {
   "codemirror_mode": {
    "name": "ipython",
    "version": 3
   },
   "file_extension": ".py",
   "mimetype": "text/x-python",
   "name": "python",
   "nbconvert_exporter": "python",
   "pygments_lexer": "ipython3",
   "version": "3.10.8"
  }
 },
 "nbformat": 4,
 "nbformat_minor": 5
}
